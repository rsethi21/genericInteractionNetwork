{
  "nbformat": 4,
  "nbformat_minor": 0,
  "metadata": {
    "colab": {
      "provenance": [],
      "authorship_tag": "ABX9TyNFqQ/poaEE+CYizO505k0s",
      "include_colab_link": true
    },
    "kernelspec": {
      "name": "python3",
      "display_name": "Python 3"
    },
    "language_info": {
      "name": "python"
    }
  },
  "cells": [
    {
      "cell_type": "markdown",
      "metadata": {
        "id": "view-in-github",
        "colab_type": "text"
      },
      "source": [
        "<a href=\"https://colab.research.google.com/github/rsethi21/genericInteractionNetwork/blob/main/dynamic.ipynb\" target=\"_parent\"><img src=\"https://colab.research.google.com/assets/colab-badge.svg\" alt=\"Open In Colab\"/></a>"
      ]
    },
    {
      "cell_type": "code",
      "source": [
        "import pickle\n",
        "import os"
      ],
      "metadata": {
        "id": "jf4K5iP_IBRV"
      },
      "execution_count": 8,
      "outputs": []
    },
    {
      "cell_type": "code",
      "source": [
        "!git clone https://github.com/rsethi21/genericInteractionNetwork.git # need this to access the modules for the network; only run once"
      ],
      "metadata": {
        "colab": {
          "base_uri": "https://localhost:8080/"
        },
        "id": "S3Vw9g_YO9wu",
        "outputId": "2f55456a-7146-4236-f68c-5d8683cb12f5"
      },
      "execution_count": 9,
      "outputs": [
        {
          "output_type": "stream",
          "name": "stdout",
          "text": [
            "Cloning into 'genericInteractionNetwork'...\n",
            "remote: Enumerating objects: 60, done.\u001b[K\n",
            "remote: Counting objects: 100% (60/60), done.\u001b[K\n",
            "remote: Compressing objects: 100% (50/50), done.\u001b[K\n",
            "remote: Total 60 (delta 22), reused 39 (delta 7), pack-reused 0\u001b[K\n",
            "Unpacking objects: 100% (60/60), 22.91 KiB | 1.27 MiB/s, done.\n"
          ]
        }
      ]
    },
    {
      "cell_type": "code",
      "source": [
        "!mv output.pkl ./genericInteractionNetwork/data/ # change the name of the object; only run once"
      ],
      "metadata": {
        "colab": {
          "base_uri": "https://localhost:8080/"
        },
        "id": "EC8a5CKWP81B",
        "outputId": "adc03e5c-17fa-4e09-d9ed-1869ba15524a"
      },
      "execution_count": 10,
      "outputs": [
        {
          "output_type": "stream",
          "name": "stdout",
          "text": [
            "mv: cannot stat 'output.pkl': No such file or directory\n"
          ]
        }
      ]
    },
    {
      "cell_type": "code",
      "source": [
        "os.chdir('./genericInteractionNetwork/') # change to this directory to be able to run the modules since they assume you are in this module; only run once"
      ],
      "metadata": {
        "id": "6asbXk99Pz1L"
      },
      "execution_count": 11,
      "outputs": []
    },
    {
      "cell_type": "code",
      "source": [
        "inputObjectPath = './data/output.pkl'\n",
        "\n",
        "with open(inputObjectPath, 'rb') as file:\n",
        "  network = pickle.load(file)"
      ],
      "metadata": {
        "id": "SukexZweFzbq"
      },
      "execution_count": 12,
      "outputs": []
    },
    {
      "cell_type": "code",
      "source": [
        "# basically call on modifyIt methods to edit as needed\n",
        "# use ipywidgets to utilize sliders that will then change the substrate or interaction attributes and recompile to graph using graphIt\n",
        "# be able to store it after words using storeIt"
      ],
      "metadata": {
        "id": "JgqjqW6-QmjT"
      },
      "execution_count": null,
      "outputs": []
    }
  ]
}