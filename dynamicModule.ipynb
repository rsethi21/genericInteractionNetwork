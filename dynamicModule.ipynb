{
  "nbformat": 4,
  "nbformat_minor": 0,
  "metadata": {
    "colab": {
      "provenance": [],
      "authorship_tag": "ABX9TyPuA6pXW7BrOUP6pZfZlLK2",
      "include_colab_link": true
    },
    "kernelspec": {
      "name": "python3",
      "display_name": "Python 3"
    },
    "language_info": {
      "name": "python"
    }
  },
  "cells": [
    {
      "cell_type": "markdown",
      "metadata": {
        "id": "view-in-github",
        "colab_type": "text"
      },
      "source": [
        "<a href=\"https://colab.research.google.com/github/rsethi21/genericInteractionNetwork/blob/main/dynamicModule.ipynb\" target=\"_parent\"><img src=\"https://colab.research.google.com/assets/colab-badge.svg\" alt=\"Open In Colab\"/></a>"
      ]
    },
    {
      "cell_type": "code",
      "source": [
        "import pickle\n",
        "import os"
      ],
      "metadata": {
        "id": "jf4K5iP_IBRV"
      },
      "execution_count": null,
      "outputs": []
    },
    {
      "cell_type": "code",
      "source": [
        "!git clone https://github.com/rsethi21/genericInteractionNetwork.git # need this to access the modules for the network; only run once"
      ],
      "metadata": {
        "colab": {
          "base_uri": "https://localhost:8080/"
        },
        "id": "S3Vw9g_YO9wu",
        "outputId": "20e00661-f1bc-4907-9b4c-9007b8f95b83"
      },
      "execution_count": null,
      "outputs": [
        {
          "output_type": "stream",
          "name": "stdout",
          "text": [
            "Cloning into 'genericInteractionNetwork'...\n",
            "remote: Enumerating objects: 79, done.\u001b[K\n",
            "remote: Counting objects: 100% (79/79), done.\u001b[K\n",
            "remote: Compressing objects: 100% (66/66), done.\u001b[K\n",
            "remote: Total 79 (delta 30), reused 48 (delta 10), pack-reused 0\u001b[K\n",
            "Unpacking objects: 100% (79/79), 31.73 KiB | 812.00 KiB/s, done.\n"
          ]
        }
      ]
    },
    {
      "cell_type": "code",
      "source": [
        "!mv output.pkl ./genericInteractionNetwork/data/ # change the name of the object; only run once"
      ],
      "metadata": {
        "id": "EC8a5CKWP81B"
      },
      "execution_count": null,
      "outputs": []
    },
    {
      "cell_type": "code",
      "source": [
        "os.chdir('./genericInteractionNetwork/') # change to this directory to be able to run the modules since they assume you are in this module; only run once"
      ],
      "metadata": {
        "id": "6asbXk99Pz1L"
      },
      "execution_count": null,
      "outputs": []
    },
    {
      "cell_type": "code",
      "source": [
        "inputObjectPath = './data/output' # can change to where you stored the network object\n",
        "\n",
        "with open(inputObjectPath, 'rb') as file:\n",
        "  network = pickle.load(file)"
      ],
      "metadata": {
        "id": "SukexZweFzbq"
      },
      "execution_count": null,
      "outputs": []
    },
    {
      "cell_type": "code",
      "source": [
        "# basically call on modifyIt methods to edit as needed\n",
        "# use ipywidgets to utilize sliders that will then change the substrate or interaction attributes and recompile to graph using graphIt\n",
        "# be able to store it after words using storeIt\n",
        "# list https://www.quora.com/How-do-I-create-a-loop-that-creates-variables-in-Python#:~:text=You%20can%20create%20variables%20in,value%20to%20a%20new%20variable.\n",
        "# https://ipywidgets.readthedocs.io/en/7.6.2/examples/Using%20Interact.html#More-control-over-the-user-interface:-interactive_output"
      ],
      "metadata": {
        "id": "JgqjqW6-QmjT"
      },
      "execution_count": null,
      "outputs": []
    }
  ]
}